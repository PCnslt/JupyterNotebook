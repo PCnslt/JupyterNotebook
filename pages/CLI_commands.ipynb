{
  "cells": [
    {
      "cell_type": "markdown",
      "metadata": {},
      "source": [
        "># **<u>Markdown Text Formatting<u>**"
      ]
    },
    {
      "cell_type": "markdown",
      "metadata": {},
      "source": [
        "# Header 1\n",
        "## Header 2\n",
        "### Header 3\n",
        "**Bold Text**\n",
        "*Italic Text*\n",
        "~~Strikethrough Text~~\n",
        "- Unordered List Item 1\n",
        "- Unordered List Item 2\n",
        "1. Ordered List Item 1\n",
        "2. Ordered List Item 2\n",
        "[Link Text](URL)\n",
        "![Image Alt Text](Image URL)\n",
        "`Inline Code`\n",
        "> Blockquote\n",
        "---"
      ]
    },
    {
      "cell_type": "markdown",
      "metadata": {},
      "source": [
        "># **<u>WireShark<u>**\n",
        "| Command    | Options             | Usage Example                            | Description                                      |\n",
        "|------------|---------------------|------------------------------------------|--------------------------------------------------|\n",
        "| wireshark  | -                   | `wireshark`                              | Open Wireshark GUI.                              |\n",
        "| tshark     | `-i <interface>`    | `tshark -i eth0`                         | Capture packets on a specific interface.           |\n",
        "|            | `-r <file>`         | `tshark -r capture.pcapng`               | Read packets from a saved file.                   |\n",
        "|            | `-w <file>`         | `tshark -w capture.pcapng`               | Write captured packets to a file.                 |\n",
        "|            | `-Y <display filter>`| `tshark -Y 'http.request.method == \"GET\"'` | Apply a display filter.               |\n",
        "|            | `-R <capture filter>`| `tshark -i eth0 -R 'tcp port 80'`       | Apply a capture filter.               |\n",
        "| dumpcap    | `-i <interface>`    | `dumpcap -i eth0`                        | Capture packets from a specific interface.         |\n",
        "|            | `-w <file>`         | `dumpcap -i eth0 -w capture.pcapng`      | Write captured packets to a file.                 |\n",
        "| editcap    | `-F <format>`       | `editcap -F pcapng input.pcapng output.pcapng` | Convert capture file format.            |\n",
        "|            | `-A <alignment>`    | `editcap -A 'not (ip || tcp || udp)' input.pcapng output.pcapng` | Adjust time reference in the file. |\n",
        "| mergecap   | -                   | `mergecap -w merged.pcapng file1.pcapng file2.pcapng` | Merge capture files.                  |\n",
        "| text2pcap  | -                   | `text2pcap input.txt output.pcapng`      | Convert text file to a capture file.              |\n",
        "| randpkt    | `-c <count>`        | `randpkt -c 1000 -o output.pcapng`       | Generate random packets.                          |"
      ]
    },
    {
      "cell_type": "markdown",
      "metadata": {},
      "source": [
        "># **<u>nmap<u>**\n",
        "| Command | Options | Usage Examples | Description |\n",
        "|---------|---------|----------------|-------------|\n",
        "| nmap    | -sS (TCP SYN scan) | `nmap -sS 192.168.1.1` | Performs a TCP SYN scan |\n",
        "| nmap    | -sT (TCP connect scan) | `nmap -sT 192.168.1.1` | Performs a TCP connect scan |\n",
        "| nmap    | -sU (UDP scan) | `nmap -sU 192.168.1.1` | Performs a UDP scan |\n",
        "| nmap    | -p <port ranges> (specify ports) | `nmap -p 80,443 192.168.1.1` | Scans specific ports |\n",
        "| nmap    | -A (aggressive scan) | `nmap -A 192.168.1.1` | Performs an aggressive scan |\n",
        "| nmap    | -O (OS detection) | `nmap -O 192.168.1.1` | Detects the operating system |\n",
        "| nmap    | --help | `nmap --help` | Displays help for Nmap |\n",
        "| nmap    | -v (increase verbosity) | `nmap -v 192.168.1.1` | Increases verbosity level |\n",
        "| nmap    | -sP (ping scan) | `nmap -sP 192.168.1.0/24` | Performs a ping scan to discover hosts |\n",
        "| nmap    | -sV (service/version detection) | `nmap -sV 192.168.1.1` | Detects service/version information |\n",
        "| nmap    | -sn (disable port scan) | `nmap -sn 192.168.1.1` | Disables port scan, only performs host discovery |"
      ]
    },
    {
      "cell_type": "markdown",
      "metadata": {},
      "source": [
        "># **<u>Git<u>**"
      ]
    },
    {
      "cell_type": "code",
      "execution_count": null,
      "metadata": {},
      "outputs": [],
      "source": [
        "# !git status\n",
        "# !git branch\n",
        "# !git branch --all\n",
        "# git checkout -b <localBranch> origin/<remoteBranch>\n",
        "# git branch -d <branchToDelete>"
      ]
    },
    {
      "cell_type": "markdown",
      "metadata": {},
      "source": [
        "># **<u>ADB + Appium<u>**"
      ]
    },
    {
      "cell_type": "code",
      "execution_count": 17,
      "metadata": {},
      "outputs": [
        {
          "name": "stdout",
          "output_type": "stream",
          "text": [
            "List of devices attached\n",
            "192.168.1.173:5555\tdevice\n"
          ]
        }
      ],
      "source": [
        "!adb devices"
      ]
    },
    {
      "cell_type": "code",
      "execution_count": 20,
      "metadata": {},
      "outputs": [
        {
          "name": "stdout",
          "output_type": "stream",
          "text": [
            "Failed to start a new session. Check if the server is running or the capabilities are correct.\n"
          ]
        }
      ],
      "source": [
        "import requests\n",
        "\n",
        "appium_url = 'http://localhost:4723/wd/hub/session'  # Replace with your Appium server URL\n",
        "\n",
        "desired_capabilities = {\n",
        "    \"platformName\": \"Android\",\n",
        "    \"deviceName\": \"192.168.1.173:5555\",\n",
        "    # Add more desired capabilities as needed\n",
        "}\n",
        "\n",
        "response = requests.post(appium_url, json={\"desiredCapabilities\": desired_capabilities})\n",
        "\n",
        "if response.status_code == 200:\n",
        "    session_id = response.json().get('sessionId')\n",
        "    print(f\"Appium Server Session ID: {session_id}\")\n",
        "else:\n",
        "    print(\"Failed to start a new session. Check if the server is running or the capabilities are correct.\")"
      ]
    }
  ],
  "metadata": {
    "kernelspec": {
      "display_name": "base",
      "language": "python",
      "name": "python3"
    },
    "language_info": {
      "codemirror_mode": {
        "name": "ipython",
        "version": 3
      },
      "file_extension": ".py",
      "mimetype": "text/x-python",
      "name": "python",
      "nbconvert_exporter": "python",
      "pygments_lexer": "ipython3",
      "version": "3.11.5"
    },
    "nbformat": 4,
    "nbformat_minor": 2
  },
  "nbformat": 4,
  "nbformat_minor": 2
}
