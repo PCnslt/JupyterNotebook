{
 "cells": [
  {
   "cell_type": "markdown",
   "metadata": {},
   "source": [
    "# Header 1\n",
    "## Header 2\n",
    "### Header 3\n",
    "\n",
    "**Bold Text**\n",
    "*Italic Text*\n",
    "~~Strikethrough Text~~\n",
    "\n",
    "- Unordered List Item 1\n",
    "- Unordered List Item 2\n",
    "\n",
    "1. Ordered List Item 1\n",
    "2. Ordered List Item 2\n",
    "\n",
    "[Link Text](URL)\n",
    "![Image Alt Text](Image URL)\n",
    "\n",
    "`Inline Code`\n",
    "\n",
    "> Blockquote\n",
    "\n",
    "---\n"
   ]
  }
 ],
 "metadata": {
  "kernelspec": {
   "display_name": "base",
   "language": "python",
   "name": "python3"
  },
  "language_info": {
   "codemirror_mode": {
    "name": "ipython",
    "version": 3
   },
   "file_extension": ".py",
   "mimetype": "text/x-python",
   "name": "python",
   "nbconvert_exporter": "python",
   "pygments_lexer": "ipython3",
   "version": "3.11.5"
  }
 },
 "nbformat": 4,
 "nbformat_minor": 2
}
